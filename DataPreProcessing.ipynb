{
 "cells": [
  {
   "cell_type": "markdown",
   "metadata": {},
   "source": [
    "** Data Preprocessing ** \n",
    "\n",
    "Total File Size is 544 MB. \n",
    "\n",
    "Disadvantage of the given dataset is\n",
    "1. Reading a 500MB file is time consuming. \n",
    "2. Also the labels are not ordered and is in another file. It would be good if both appname, label and data are in the same file. \n",
    "3. To reduce the initial load time we need to store the file in efficient manner\n",
    "\n",
    "So i am creating file with the following format\n",
    "\n",
    "`appName, label, (colNo,tfidf)+`\n",
    "\n"
   ]
  },
  {
   "cell_type": "code",
   "execution_count": null,
   "metadata": {
    "collapsed": true
   },
   "outputs": [],
   "source": [
    "import csv\n"
   ]
  }
 ],
 "metadata": {
  "kernelspec": {
   "display_name": "Python 2",
   "language": "python",
   "name": "python2"
  },
  "language_info": {
   "codemirror_mode": {
    "name": "ipython",
    "version": 2
   },
   "file_extension": ".py",
   "mimetype": "text/x-python",
   "name": "python",
   "nbconvert_exporter": "python",
   "pygments_lexer": "ipython2",
   "version": "2.7.6"
  }
 },
 "nbformat": 4,
 "nbformat_minor": 0
}
