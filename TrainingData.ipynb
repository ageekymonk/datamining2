{
 "cells": [
  {
   "cell_type": "code",
   "execution_count": 1,
   "metadata": {
    "collapsed": false
   },
   "outputs": [
    {
     "name": "stdout",
     "output_type": "stream",
     "text": [
      "Populating the interactive namespace from numpy and matplotlib\n"
     ]
    }
   ],
   "source": [
    "%pylab inline"
   ]
  },
  {
   "cell_type": "markdown",
   "metadata": {},
   "source": [
    "** Load the Pre Processed Data into sparse matrix for memory efficiency **\n",
    "\n",
    "Total Rows = 20104\n",
    "Total Cols = 13626\n",
    "Amount of Data for double = 8 * 20104 * 13626 = 2.09G\n",
    "\n",
    "If we have a limited RAM of 8G we are running out of RAM if we run some classification algorithm on this. So we need to optimize the memory. So storing the data in linked list sparse matrix and then for efficient arithmetic operations converting it to Compressed sparse row matrix."
   ]
  },
  {
   "cell_type": "code",
   "execution_count": 2,
   "metadata": {
    "collapsed": true
   },
   "outputs": [],
   "source": [
    "import csv\n",
    "from scipy.sparse import lil_matrix\n",
    "\n",
    "# returns (app_data, app_names_with_labels)\n",
    "def get_training_data(filename):\n",
    "    app_data = lil_matrix((total_rows, total_cols), dtype='double')\n",
    "    app_names_with_labels = []\n",
    "    app_name_to_label = dict({})\n",
    "    with open(filename,'r') as dest_f:\n",
    "        data_iter = csv.reader(dest_f, \n",
    "                               delimiter = \",\")\n",
    "\n",
    "        for rowidx, row in enumerate(data_iter):\n",
    "            app_names_with_labels.append((row[0],row[1]))\n",
    "            for colidx, val in zip(*[iter(row[2:])]*2):\n",
    "                app_data[rowidx,colidx] = float(val)\n",
    "    return (app_data, app_names_with_labels)"
   ]
  }
 ],
 "metadata": {
  "kernelspec": {
   "display_name": "Python 2",
   "language": "python",
   "name": "python2"
  },
  "language_info": {
   "codemirror_mode": {
    "name": "ipython",
    "version": 2
   },
   "file_extension": ".py",
   "mimetype": "text/x-python",
   "name": "python",
   "nbconvert_exporter": "python",
   "pygments_lexer": "ipython2",
   "version": "2.7.6"
  }
 },
 "nbformat": 4,
 "nbformat_minor": 0
}
