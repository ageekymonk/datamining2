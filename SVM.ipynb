{
 "cells": [
  {
   "cell_type": "markdown",
   "metadata": {},
   "source": [
    "** Support Vector Machine **"
   ]
  },
  {
   "cell_type": "code",
   "execution_count": 10,
   "metadata": {
    "collapsed": false
   },
   "outputs": [
    {
     "name": "stdout",
     "output_type": "stream",
     "text": [
      "Populating the interactive namespace from numpy and matplotlib\n",
      "Populating the interactive namespace from numpy and matplotlib\n"
     ]
    },
    {
     "name": "stderr",
     "output_type": "stream",
     "text": [
      "WARNING: pylab import has clobbered these variables: ['clf', 'cm']\n",
      "`%matplotlib` prevents importing * from pylab and numpy\n"
     ]
    }
   ],
   "source": [
    "%matplotlib inline\n",
    "%run 'TrainingData.ipynb'\n",
    "%run 'DisplayHelpers.ipynb'"
   ]
  },
  {
   "cell_type": "code",
   "execution_count": 4,
   "metadata": {
    "collapsed": true
   },
   "outputs": [],
   "source": [
    "import matplotlib.pyplot as plt\n",
    "import sklearn.metrics.pairwise as smp\n",
    "from sklearn.metrics import precision_recall_fscore_support, confusion_matrix\n",
    "from sklearn.cross_validation import KFold\n",
    "from scipy.sparse import lil_matrix\n",
    "\n",
    "myappdata = TrainingData()"
   ]
  },
  {
   "cell_type": "code",
   "execution_count": null,
   "metadata": {
    "collapsed": false,
    "scrolled": false
   },
   "outputs": [],
   "source": [
    "import numpy as np\n",
    "from sklearn.decomposition import TruncatedSVD\n",
    "from sklearn import svm\n",
    "from sklearn import linear_model\n",
    "\n",
    "results = []\n",
    "\n",
    "kf = KFold(n=20104, n_folds=10, random_state=42)\n",
    "for train_idx, test_idx in kf:\n",
    "    (train_data, train_labels) = myappdata.get_data_and_labels(train_idx)\n",
    "    (test_data, test_labels) = myappdata.get_data_and_labels(test_idx)\n",
    "    test_app_names = myappdata.get_app_names(test_idx)\n",
    "\n",
    "    clf = svm.LinearSVC()\n",
    "    clf.fit(train_data, train_labels)\n",
    "    predict_labels_arr = clf.predict(test_data)\n",
    "    \n",
    "    (precision, recall, fscore, support) = precision_recall_fscore_support(test_labels, predict_labels_arr)\n",
    "    \n",
    "    results.append((precision, recall, fscore))\n",
    "    cm = confusion_matrix(test_labels, predict_labels_arr, myappdata.total_sorted_app_labels)\n",
    "    \n",
    "    print(\"N Fold Precision = {0} Recall {1} Fscore {2}\".format(sum(precision)/precision.size, \n",
    "                                                                sum(recall)/recall.size,\n",
    "                                                                sum(fscore)/fscore.size))\n",
    "\n",
    "average_precision =  [sum(elem)/len(elem) for elem in zip(*[x[0] for x in results])]\n",
    "average_recall = [sum(elem)/len(elem) for elem in zip(*[x[1] for x in results])]\n",
    "average_fscore = [sum(elem)/len(elem) for elem in zip(*[x[2] for x in results])]\n",
    "\n",
    "print(\"Overall Precision = {0} Recall {1} fscore {2}\".format(sum(average_precision)/len(average_precision), \n",
    "                                                  sum(average_recall)/len(average_recall),\n",
    "                                                    sum(average_fscore)/len(average_fscore)))\n",
    "\n",
    "plot_precision_and_recall(average_precision, average_recall, average_fscore, myappdata.total_sorted_app_labels)\n",
    "plot_confusion_matrix(cm, myappdata.total_sorted_app_labels)"
   ]
  },
  {
   "cell_type": "code",
   "execution_count": null,
   "metadata": {
    "collapsed": true
   },
   "outputs": [],
   "source": []
  }
 ],
 "metadata": {
  "kernelspec": {
   "display_name": "Python 2",
   "language": "python",
   "name": "python2"
  },
  "language_info": {
   "codemirror_mode": {
    "name": "ipython",
    "version": 2
   },
   "file_extension": ".py",
   "mimetype": "text/x-python",
   "name": "python",
   "nbconvert_exporter": "python",
   "pygments_lexer": "ipython2",
   "version": "2.7.6"
  }
 },
 "nbformat": 4,
 "nbformat_minor": 0
}
