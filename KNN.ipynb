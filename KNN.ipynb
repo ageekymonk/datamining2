{
 "cells": [
  {
   "cell_type": "markdown",
   "metadata": {},
   "source": [
    "** KNN Algorithm **\n",
    "\n",
    "Tried using the Euclidean distance for the KNN and accuracy seems to be high for 1 Neighbour. "
   ]
  },
  {
   "cell_type": "code",
   "execution_count": 1,
   "metadata": {
    "collapsed": false
   },
   "outputs": [
    {
     "name": "stdout",
     "output_type": "stream",
     "text": [
      "Populating the interactive namespace from numpy and matplotlib\n"
     ]
    }
   ],
   "source": [
    "%run 'LoadData.ipynb'"
   ]
  },
  {
   "cell_type": "code",
   "execution_count": null,
   "metadata": {
    "collapsed": true
   },
   "outputs": [],
   "source": [
    "(app_data, app_names_with_labels) = get_training_data('training/data_with_comma.csv')"
   ]
  },
  {
   "cell_type": "code",
   "execution_count": null,
   "metadata": {
    "collapsed": true
   },
   "outputs": [],
   "source": [
    "from sklearn.neighbors import KNeighborsClassifier\n",
    "import numpy as np\n",
    "csr_app_data = app_data.tocsr()\n",
    "app_labels = np.array([ val[1] for val in app_names_with_labels ])\n",
    "test_idx = np.random.uniform(0, 1, 20104) <= 0.90\n",
    "train_data = csr_app_data[test_idx==True]\n",
    "train_labels = app_labels[test_idx==True]\n",
    "test_data = csr_app_data[test_idx==False] \n",
    "test_labels = app_labels[test_idx==False]\n",
    "print(\"Total test data {0}\".format(len(test_labels)))\n",
    "for n in range(1, 10, 2):\n",
    "    clf = KNeighborsClassifier(n_neighbors=n) \n",
    "    clf.fit(train_data, train_labels)\n",
    "    preds = clf.predict(test_data)\n",
    "    accuracy = np.where(preds==test_labels, 1, 0).sum() / float(len(test_labels))\n",
    "    print \"Neighbors: %d, Accuracy: %3f\" % (n, accuracy)"
   ]
  },
  {
   "cell_type": "code",
   "execution_count": null,
   "metadata": {
    "collapsed": true
   },
   "outputs": [],
   "source": []
  }
 ],
 "metadata": {
  "kernelspec": {
   "display_name": "Python 2",
   "language": "python",
   "name": "python2"
  },
  "language_info": {
   "codemirror_mode": {
    "name": "ipython",
    "version": 2
   },
   "file_extension": ".py",
   "mimetype": "text/x-python",
   "name": "python",
   "nbconvert_exporter": "python",
   "pygments_lexer": "ipython2",
   "version": "2.7.6"
  }
 },
 "nbformat": 4,
 "nbformat_minor": 0
}
