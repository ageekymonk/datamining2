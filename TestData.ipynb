{
 "cells": [
  {
   "cell_type": "code",
   "execution_count": 1,
   "metadata": {
    "collapsed": false
   },
   "outputs": [],
   "source": [
    "%matplotlib inline"
   ]
  },
  {
   "cell_type": "code",
   "execution_count": 7,
   "metadata": {
    "collapsed": false
   },
   "outputs": [],
   "source": [
    "import csv\n",
    "import numpy as np\n",
    "from scipy.sparse import lil_matrix\n",
    "\n",
    "class TestData:\n",
    "    def __init__(self, data_filename='training/testdata.csv', labels_filename='training/testlabels.csv'):\n",
    "        (self.app_data, self.app_labels) = TestData.load_from_file(data_filename, labels_filename)\n",
    "        self.compressed_app_data = self.app_data.tocsr()\n",
    "\n",
    "    @staticmethod\n",
    "    def load_from_file(data_filename='training/test_data.csv', labels_filename='training/testlabels.csv'):\n",
    "        total_rows = 4000\n",
    "        total_cols = 13626\n",
    "        \n",
    "        app_name_with_labels = dict({})\n",
    "        app_labels_list = []\n",
    "#         with open(labels_filename, 'r') as dest_f:\n",
    "#             reader = csv.reader(dest_f, delimiter = ',')\n",
    "#             for line in reader:\n",
    "#                 app_name, app_label = line\n",
    "#                 app_name_with_labels[app_name] = app_label\n",
    "        \n",
    "        total_rows = 2233\n",
    "        app_data = lil_matrix((total_rows, total_cols), dtype='double')\n",
    "        \n",
    "        with open(data_filename,'r') as dest_f:\n",
    "            reader = csv.reader(dest_f, delimiter = \",\")\n",
    "            rowidx = 0\n",
    "            for line in reader:\n",
    "                for colidx, col in enumerate(line[1:]):\n",
    "                    app_data[rowidx,colidx] = float(col)\n",
    "                rowidx = rowidx + 1\n",
    "        return app_data\n",
    "    \n",
    "    def get_test_data(self):\n",
    "        return self.app_data\n",
    "\n",
    "    def get_test_labels(self):\n",
    "        return self.app_labels"
   ]
  },
  {
   "cell_type": "code",
   "execution_count": null,
   "metadata": {
    "collapsed": true
   },
   "outputs": [],
   "source": []
  }
 ],
 "metadata": {
  "kernelspec": {
   "display_name": "Python 2",
   "language": "python",
   "name": "python2"
  },
  "language_info": {
   "codemirror_mode": {
    "name": "ipython",
    "version": 2
   },
   "file_extension": ".py",
   "mimetype": "text/x-python",
   "name": "python",
   "nbconvert_exporter": "python",
   "pygments_lexer": "ipython2",
   "version": "2.7.6"
  }
 },
 "nbformat": 4,
 "nbformat_minor": 0
}
